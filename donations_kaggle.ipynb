{
 "cells": [
  {
   "cell_type": "code",
   "execution_count": 1,
   "metadata": {},
   "outputs": [
    {
     "name": "stdout",
     "output_type": "stream",
     "text": [
      "<botocore.response.StreamingBody object at 0x7fbf550b2e80>\n"
     ]
    }
   ],
   "source": [
    "import boto3\n",
    "import io\n",
    "import pandas as pd\n",
    "\n",
    "\n",
    "\n",
    "client = boto3.client('s3') #low-level functional API\n",
    "\n",
    "s3 = boto3.client('s3', aws_access_key_id=ACCESS_KEY, aws_secret_access_key=SECRET_KEY) #high-level object-oriented API\n",
    "obj = client.get_object(Bucket=MY_BUCKET, Key=OBJ_KEY) #subsitute this for your s3 bucket name. \n",
    "\n",
    "print(obj['Body'])\n",
    "#response = obj['Body'].read()\n",
    "#print(response)"
   ]
  },
  {
   "cell_type": "code",
   "execution_count": 2,
   "metadata": {},
   "outputs": [
    {
     "name": "stdout",
     "output_type": "stream",
     "text": [
      "        id                        teacher_id teacher_prefix school_state  \\\n",
      "0  p036502  484aaf11257089a66cfedc9461c6bd0a            Ms.           NV   \n",
      "1  p039565  df72a3ba8089423fa8a94be88060f6ed           Mrs.           GA   \n",
      "2  p233823  a9b876a9252e08a55e3d894150f75ba3            Ms.           UT   \n",
      "3  p185307  525fdbb6ec7f538a48beebaa0a51b24f            Mr.           NC   \n",
      "4  p013780  a63b5547a7239eae4c1872670848e61a            Mr.           CA   \n",
      "\n",
      "  project_submitted_datetime project_grade_category  \\\n",
      "0           2016-11-18 14:45          Grades PreK-2   \n",
      "1           2017-04-26 15:57             Grades 3-5   \n",
      "2           2017-01-01 22:57             Grades 3-5   \n",
      "3           2016-08-12 15:42             Grades 3-5   \n",
      "4            2016-08-06 9:09             Grades 6-8   \n",
      "\n",
      "            project_subject_categories  \\\n",
      "0                  Literacy & Language   \n",
      "1    Music & The Arts, Health & Sports   \n",
      "2  Math & Science, Literacy & Language   \n",
      "3                      Health & Sports   \n",
      "4                      Health & Sports   \n",
      "\n",
      "            project_subject_subcategories  \\\n",
      "0                                Literacy   \n",
      "1            Performing Arts, Team Sports   \n",
      "2  Applied Sciences, Literature & Writing   \n",
      "3                       Health & Wellness   \n",
      "4                       Health & Wellness   \n",
      "\n",
      "                                       project_title  \\\n",
      "0                           Super Sight Word Centers   \n",
      "1                             Keep Calm and Dance On   \n",
      "2                              Lets 3Doodle to Learn   \n",
      "3  \\\"Kid Inspired\\\" Equipment to Increase Activit...   \n",
      "4   We need clean water for our culinary arts class!   \n",
      "\n",
      "                                     project_essay_1  \\\n",
      "0  Most of my kindergarten students come from low...   \n",
      "1  Our elementary school is a culturally rich sch...   \n",
      "2  Hello;\\r\\nMy name is Mrs. Brotherton. I teach ...   \n",
      "3  My students are the greatest students but are ...   \n",
      "4  My students are athletes and students who are ...   \n",
      "\n",
      "                                     project_essay_2 project_essay_3  \\\n",
      "0  I currently have a differentiated sight word c...             NaN   \n",
      "1  We strive to provide our diverse population of...             NaN   \n",
      "2  We are looking to add some 3Doodler to our cla...             NaN   \n",
      "3  The student's project which is totally \\\"kid-i...             NaN   \n",
      "4  For some reason in our kitchen the water comes...             NaN   \n",
      "\n",
      "  project_essay_4                           project_resource_summary  \\\n",
      "0             NaN  My students need 6 Ipod Nano's to create and d...   \n",
      "1             NaN  My students need matching shirts to wear for d...   \n",
      "2             NaN  My students need the 3doodler. We are an SEM s...   \n",
      "3             NaN  My students need balls and other activity equi...   \n",
      "4             NaN  My students need a water filtration system for...   \n",
      "\n",
      "   teacher_number_of_previously_posted_projects  project_is_approved  \n",
      "0                                            26                    1  \n",
      "1                                             1                    0  \n",
      "2                                             5                    1  \n",
      "3                                            16                    0  \n",
      "4                                            42                    1  \n"
     ]
    }
   ],
   "source": [
    "import io\n",
    "df = pd.read_csv(io.BytesIO(obj['Body'].read()))\n",
    "print(df.head())"
   ]
  },
  {
   "cell_type": "code",
   "execution_count": 3,
   "metadata": {},
   "outputs": [
    {
     "name": "stdout",
     "output_type": "stream",
     "text": [
      "        id                                        description  quantity  \\\n",
      "0  p233245  LC652 - Lakeshore Double-Space Mobile Drying Rack         1   \n",
      "1  p069063        Bouncy Bands for Desks (Blue support pipes)         3   \n",
      "2  p069063  Cory Stories: A Kid's Book About Living With Adhd         1   \n",
      "3  p069063  Dixon Ticonderoga Wood-Cased #2 HB Pencils, Bo...         2   \n",
      "4  p069063  EDUCATIONAL INSIGHTS FLUORESCENT LIGHT FILTERS...         3   \n",
      "\n",
      "    price  \n",
      "0  149.00  \n",
      "1   14.95  \n",
      "2    8.45  \n",
      "3   13.59  \n",
      "4   24.95  \n"
     ]
    }
   ],
   "source": [
    "\n",
    "OBJ_KEY = 'resources_sub.csv'\n",
    "\n",
    "res_obj = client.get_object(Bucket=MY_BUCKET, Key=OBJ_KEY) #subsitute this for your s3 bucket name. \n",
    "df_res = pd.read_csv(io.BytesIO(res_obj['Body'].read()))\n",
    "print(df_res.head())"
   ]
  },
  {
   "cell_type": "code",
   "execution_count": 4,
   "metadata": {},
   "outputs": [
    {
     "name": "stdout",
     "output_type": "stream",
     "text": [
      "        id                        teacher_id teacher_prefix school_state  \\\n",
      "0  p232007  e7a8f866e3174a77ffe37323f032a8ac           Mrs.           FL   \n",
      "1  p232007  e7a8f866e3174a77ffe37323f032a8ac           Mrs.           FL   \n",
      "2  p232007  e7a8f866e3174a77ffe37323f032a8ac           Mrs.           FL   \n",
      "3  p232007  e7a8f866e3174a77ffe37323f032a8ac           Mrs.           FL   \n",
      "4  p232007  e7a8f866e3174a77ffe37323f032a8ac           Mrs.           FL   \n",
      "\n",
      "  project_submitted_datetime project_grade_category  \\\n",
      "0            2016-04-27 9:58          Grades PreK-2   \n",
      "1            2016-04-27 9:58          Grades PreK-2   \n",
      "2            2016-04-27 9:58          Grades PreK-2   \n",
      "3            2016-04-27 9:58          Grades PreK-2   \n",
      "4            2016-04-27 9:58          Grades PreK-2   \n",
      "\n",
      "              project_subject_categories  \\\n",
      "0  Applied Learning, Literacy & Language   \n",
      "1  Applied Learning, Literacy & Language   \n",
      "2  Applied Learning, Literacy & Language   \n",
      "3  Applied Learning, Literacy & Language   \n",
      "4  Applied Learning, Literacy & Language   \n",
      "\n",
      "                 project_subject_subcategories        project_title  \\\n",
      "0  College & Career Prep, Literature & Writing  Watch Readers Grow!   \n",
      "1  College & Career Prep, Literature & Writing  Watch Readers Grow!   \n",
      "2  College & Career Prep, Literature & Writing  Watch Readers Grow!   \n",
      "3  College & Career Prep, Literature & Writing  Watch Readers Grow!   \n",
      "4  College & Career Prep, Literature & Writing  Watch Readers Grow!   \n",
      "\n",
      "                                     project_essay_1  \\\n",
      "0  During our reading workshop students are at da...   \n",
      "1  During our reading workshop students are at da...   \n",
      "2  During our reading workshop students are at da...   \n",
      "3  During our reading workshop students are at da...   \n",
      "4  During our reading workshop students are at da...   \n",
      "\n",
      "                                     project_essay_2  \\\n",
      "0  My students lack confidence. I have a class wi...   \n",
      "1  My students lack confidence. I have a class wi...   \n",
      "2  My students lack confidence. I have a class wi...   \n",
      "3  My students lack confidence. I have a class wi...   \n",
      "4  My students lack confidence. I have a class wi...   \n",
      "\n",
      "                                     project_essay_3  \\\n",
      "0  During our reading workshop. We do mini lesson...   \n",
      "1  During our reading workshop. We do mini lesson...   \n",
      "2  During our reading workshop. We do mini lesson...   \n",
      "3  During our reading workshop. We do mini lesson...   \n",
      "4  During our reading workshop. We do mini lesson...   \n",
      "\n",
      "                                     project_essay_4  \\\n",
      "0  Your donations would greatly be a blessing for...   \n",
      "1  Your donations would greatly be a blessing for...   \n",
      "2  Your donations would greatly be a blessing for...   \n",
      "3  Your donations would greatly be a blessing for...   \n",
      "4  Your donations would greatly be a blessing for...   \n",
      "\n",
      "                            project_resource_summary  \\\n",
      "0  My students need these reading materials to he...   \n",
      "1  My students need these reading materials to he...   \n",
      "2  My students need these reading materials to he...   \n",
      "3  My students need these reading materials to he...   \n",
      "4  My students need these reading materials to he...   \n",
      "\n",
      "   teacher_number_of_previously_posted_projects  project_is_approved  \\\n",
      "0                                             6                    1   \n",
      "1                                             6                    1   \n",
      "2                                             6                    1   \n",
      "3                                             6                    1   \n",
      "4                                             6                    1   \n",
      "\n",
      "                                         description  quantity   price  \n",
      "0  DD280X - Quick-Pick Language Student Activity ...         1   69.99  \n",
      "1  FF562 - Read with a Pen! Close Reading Kit - G...         1   39.99  \n",
      "2  FF610X - Language Skills Learning Centers for ...         1  139.00  \n",
      "3            HH188 - Reading Corner Classroom Carpet         1  169.00  \n",
      "4                       RR297 - Giant Magnetic Words         1   49.99  \n"
     ]
    }
   ],
   "source": [
    "df_train = pd.merge(df,df_res, on = 'id')\n",
    "print(df_train.head())"
   ]
  },
  {
   "cell_type": "code",
   "execution_count": 2,
   "metadata": {},
   "outputs": [
    {
     "name": "stdout",
     "output_type": "stream",
     "text": [
      "[nltk_data] Downloading package stopwords to\n",
      "[nltk_data]     /home/ec2-user/nltk_data...\n",
      "[nltk_data]   Package stopwords is already up-to-date!\n"
     ]
    }
   ],
   "source": [
    "import pandas as pd\n",
    "import string\n",
    "import numpy as np\n",
    "import matplotlib.pyplot as plt\n",
    "import seaborn as sns\n",
    "import nltk\n",
    "nltk.download('stopwords')\n",
    "from nltk.corpus import stopwords"
   ]
  },
  {
   "cell_type": "code",
   "execution_count": 3,
   "metadata": {},
   "outputs": [],
   "source": [
    "def text_processing(text):\n",
    "    '''\n",
    "    Takes in a string of text, then performs the following:\n",
    "    1. Remove all punctuation\n",
    "    2. Remove all stopwords\n",
    "    3. Return the cleaned text as a list of words\n",
    "    '''\n",
    "    \n",
    "    # split into words by white space\n",
    "    words = text.split()\n",
    "    # remove punctuation from each word\n",
    "    table = str.maketrans('', '', string.punctuation)\n",
    "    stripped = [w.translate(table) for w in words]\n",
    "    return [word for word in stripped if word.lower() not in stopwords.words('english')]\n"
   ]
  },
  {
   "cell_type": "code",
   "execution_count": 6,
   "metadata": {},
   "outputs": [
    {
     "name": "stdout",
     "output_type": "stream",
     "text": [
      "13.8 s ± 133 ms per loop (mean ± std. dev. of 7 runs, 1 loop each)\n"
     ]
    }
   ],
   "source": [
    "%%timeit\n",
    "\n",
    "# Timing apply on the Haversine function\n",
    "df['essay_1_wrd'] = df['project_essay_1'].apply(text_processing)"
   ]
  },
  {
   "cell_type": "code",
   "execution_count": 9,
   "metadata": {},
   "outputs": [],
   "source": [
    "from sklearn.feature_extraction.text import TfidfVectorizer, CountVectorizer\n",
    "X = df['project_essay_1']\n",
    "bow_transformer = CountVectorizer(analyzer=text_processing).fit(X)"
   ]
  },
  {
   "cell_type": "code",
   "execution_count": null,
   "metadata": {},
   "outputs": [],
   "source": []
  }
 ],
 "metadata": {
  "kernelspec": {
   "display_name": "Python 3",
   "language": "python",
   "name": "python3"
  },
  "language_info": {
   "codemirror_mode": {
    "name": "ipython",
    "version": 3
   },
   "file_extension": ".py",
   "mimetype": "text/x-python",
   "name": "python",
   "nbconvert_exporter": "python",
   "pygments_lexer": "ipython3",
   "version": "3.6.4"
  }
 },
 "nbformat": 4,
 "nbformat_minor": 2
}
